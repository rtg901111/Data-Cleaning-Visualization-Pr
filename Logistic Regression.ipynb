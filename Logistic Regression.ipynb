{
 "cells": [
  {
   "cell_type": "code",
   "execution_count": 1,
   "metadata": {},
   "outputs": [
    {
     "name": "stderr",
     "output_type": "stream",
     "text": [
      "C:\\Users\\rtg90\\AppData\\Local\\Continuum\\anaconda3\\lib\\site-packages\\statsmodels\\tools\\_testing.py:19: FutureWarning: pandas.util.testing is deprecated. Use the functions in the public API at pandas.testing instead.\n",
      "  import pandas.util.testing as tm\n"
     ]
    }
   ],
   "source": [
    "import pandas as pd\n",
    "import numpy as np\n",
    "import matplotlib.pyplot as plt\n",
    "\n",
    "import seaborn as sns\n",
    "\n",
    "from sklearn.model_selection import LeaveOneOut\n",
    "from sklearn.preprocessing import PolynomialFeatures\n",
    "from sklearn.metrics import mean_squared_error\n",
    "import sklearn.linear_model as skl_lm\n",
    "from sklearn.linear_model import LogisticRegression\n",
    "\n",
    "\n",
    "from sklearn.model_selection import cross_val_score\n",
    "from sklearn.model_selection import KFold\n",
    "\n",
    "from sklearn.model_selection import train_test_split\n",
    "import statsmodels.api as sm\n",
    "\n",
    "np.random.seed(0)"
   ]
  },
  {
   "cell_type": "markdown",
   "metadata": {},
   "source": [
    "# 1-a"
   ]
  },
  {
   "cell_type": "code",
   "execution_count": 6,
   "metadata": {},
   "outputs": [],
   "source": [
    "x_vector = np.random.normal(size = 100)\n",
    "z_vector = np.random.normal(size = 100)"
   ]
  },
  {
   "cell_type": "code",
   "execution_count": 11,
   "metadata": {},
   "outputs": [],
   "source": [
    "y_vector = 1.2 + (3*x_vector) - (8 * (x_vector**2)) + z_vector"
   ]
  },
  {
   "cell_type": "markdown",
   "metadata": {},
   "source": [
    "n is 200 and p is 2. Y|X=x∼N(μY+ρσYσX(X−μX),σ2Y(1−ρ2))"
   ]
  },
  {
   "cell_type": "markdown",
   "metadata": {},
   "source": [
    "# 1-b"
   ]
  },
  {
   "cell_type": "code",
   "execution_count": 24,
   "metadata": {},
   "outputs": [
    {
     "data": {
      "image/png": "[encoded data removed]",
      "text/plain": [
       "<Figure size 432x288 with 1 Axes>"
      ]
     },
     "metadata": {
      "needs_background": "light"
     },
     "output_type": "display_data"
    }
   ],
   "source": [
    "plt.scatter(x_vector, y_vector)\n",
    "plt.xlabel(\"x\")\n",
    "plt.ylabel(\"y\")\n",
    "plt.show()"
   ]
  },
  {
   "cell_type": "markdown",
   "metadata": {},
   "source": [
    "The plot looks like a normal distribution curve with x centered at 0. y values range from about 0 to -70. It's probably because x is randomly sampled from the standard normal distribution and y is a transformation from it. "
   ]
  },
  {
   "cell_type": "markdown",
   "metadata": {},
   "source": [
    "# 1-c"
   ]
  },
  {
   "cell_type": "code",
   "execution_count": 135,
   "metadata": {
    "scrolled": false
   },
   "outputs": [
    {
     "name": "stdout",
     "output_type": "stream",
     "text": [
      "Degree: 1, MSE: 92.38875072345024\n",
      "Degree: 2, MSE: 26578.82617559277\n",
      "Degree: 3, MSE: 135917655.16474134\n",
      "Degree: 4, MSE: 84721477595.30247\n"
     ]
    }
   ],
   "source": [
    "lm = skl_lm.LinearRegression()\n",
    "# i. y = β0 + β1x + ε, \n",
    "poly = PolynomialFeatures(degree=1)\n",
    "loo = LeaveOneOut()\n",
    "x = poly.fit_transform(x_vector.reshape(-1,1))\n",
    "y = poly.fit_transform(y_vector.reshape(-1,1))\n",
    "\n",
    "weights = np.polyfit(x_vector, y_vector, deg=1)\n",
    "model = np.poly1d(weights)\n",
    "\n",
    "\n",
    "loo.get_n_splits(x)\n",
    "\n",
    "model_i = lm.fit(x, y)\n",
    "#crossvalidation = KFold(n_splits=5, random_state=None, shuffle=False)\n",
    "scores = cross_val_score(model_i, x, y, scoring=\"neg_mean_squared_error\", cv=loo)\n",
    "\n",
    "\n",
    "print(\"Degree: \" + str(1) + \", MSE: \" + str(np.mean(np.abs(scores))))\n",
    "lm = skl_lm.LinearRegression()\n",
    "\n",
    "#ii. y = β0 + β1x + β2x2 + ε, \n",
    "poly = PolynomialFeatures(degree=2)\n",
    "loo = LeaveOneOut()\n",
    "x = poly.fit_transform(x_vector.reshape(-1,1))\n",
    "y = poly.fit_transform(y_vector.reshape(-1,1))\n",
    "\n",
    "loo.get_n_splits(x)\n",
    "\n",
    "model_ii = lm.fit(x, y)\n",
    "#crossvalidation = KFold(n_splits=5, random_state=None, shuffle=False)\n",
    "scores = cross_val_score(model_ii, x, y, scoring=\"neg_mean_squared_error\", cv=loo)\n",
    "\n",
    "\n",
    "print(\"Degree: \" + str(2) + \", MSE: \" + str(np.mean(np.abs(scores))))\n",
    "lm = skl_lm.LinearRegression()\n",
    "\n",
    "#iii. y = β0 + β1x + β2x2 + β3x3 + ε, \n",
    "poly = PolynomialFeatures(degree=3)\n",
    "loo = LeaveOneOut()\n",
    "x = poly.fit_transform(x_vector.reshape(-1,1))\n",
    "y = poly.fit_transform(y_vector.reshape(-1,1))\n",
    "\n",
    "loo.get_n_splits(x)\n",
    "\n",
    "model_iii = lm.fit(x, y)\n",
    "#crossvalidation = KFold(n_splits=5, random_state=None, shuffle=False)\n",
    "scores = cross_val_score(model_iii, x, y, scoring=\"neg_mean_squared_error\", cv=loo)\n",
    "\n",
    "\n",
    "print(\"Degree: \" + str(3) + \", MSE: \" + str(np.mean(np.abs(scores))))\n",
    "lm = skl_lm.LinearRegression()\n",
    "\n",
    "#iv. y = β0 + β1x + β2x2 + β3x3 + β4x4 + ε\n",
    "poly = PolynomialFeatures(degree=4)\n",
    "loo = LeaveOneOut()\n",
    "x = poly.fit_transform(x_vector.reshape(-1,1))\n",
    "y = poly.fit_transform(y_vector.reshape(-1,1))\n",
    "\n",
    "loo.get_n_splits(x)\n",
    "\n",
    "model_iv = lm.fit(x, y)\n",
    "#crossvalidation = KFold(n_splits=5, random_state=None, shuffle=False)\n",
    "scores = cross_val_score(model_iv, x, y, scoring=\"neg_mean_squared_error\", cv=loo)\n",
    "\n",
    "\n",
    "print(\"Degree: \" + str(4) + \", MSE: \" + str(np.mean(np.abs(scores))))"
   ]
  },
  {
   "cell_type": "markdown",
   "metadata": {},
   "source": [
    "# 1-d"
   ]
  },
  {
   "cell_type": "markdown",
   "metadata": {},
   "source": [
    "The model i had the smallest LOOCV error. This is what I expected because model i has the smallest complexity (or the lowest polynomial degree). The model with the higher polynomial degree is likely to have the higher error rate because it's more complex. "
   ]
  },
  {
   "cell_type": "markdown",
   "metadata": {},
   "source": [
    "# 1-e"
   ]
  },
  {
   "cell_type": "code",
   "execution_count": 133,
   "metadata": {
    "scrolled": false
   },
   "outputs": [
    {
     "name": "stdout",
     "output_type": "stream",
     "text": [
      "the coefficients of each model are:\n",
      "model_i: [[0.        0.       ]\n",
      " [0.        4.7369653]]\n",
      "model_ii: [[   0.            0.            0.        ]\n",
      " [   0.            3.11603659   -7.88520881]\n",
      " [   0.         -189.05432858  380.48522213]]\n",
      "model_iii: [[ 0.00000000e+00  0.00000000e+00  0.00000000e+00  0.00000000e+00]\n",
      " [ 0.00000000e+00  3.18704382e+00 -7.89090333e+00 -2.02510622e-02]\n",
      " [ 0.00000000e+00  2.75669695e+00  3.65102660e+02 -5.47039650e+01]\n",
      " [ 0.00000000e+00 -5.36796140e+03 -1.86779975e+04  4.89935646e+03]]\n",
      "model_iv: [[ 0.00000000e+00  0.00000000e+00  0.00000000e+00  0.00000000e+00\n",
      "   0.00000000e+00]\n",
      " [ 0.00000000e+00  3.18721030e+00 -7.86590851e+00 -2.07615147e-02\n",
      "  -4.21516445e-03]\n",
      " [ 0.00000000e+00  3.15399506e-01 -1.43335347e+00 -4.72184462e+01\n",
      "   6.18131770e+01]\n",
      " [ 0.00000000e+00 -5.17414524e+03  1.04215310e+04  4.30507633e+03\n",
      "  -4.90738764e+03]\n",
      " [ 0.00000000e+00  5.20196586e+05 -9.52005613e+05 -3.23912124e+05\n",
      "   3.32107078e+05]]\n"
     ]
    }
   ],
   "source": [
    "print(\"the coefficients of each model are:\")\n",
    "print(\"model_i:\",model_i.coef_)\n",
    "print(\"model_ii:\",model_ii.coef_)\n",
    "print(\"model_iii:\",model_iii.coef_)\n",
    "print(\"model_iv:\",model_iv.coef_)\n"
   ]
  },
  {
   "cell_type": "markdown",
   "metadata": {},
   "source": [
    "Yes, the results agree with the conclusions drawn based on the cross-validation results. The statistical significance of coefficient estimates decreases as the polynomial degree increases. Thus, it makes sense that the model i with the lowest degree has the lowest LOOCV error rate."
   ]
  },
  {
   "cell_type": "markdown",
   "metadata": {},
   "source": [
    "# 2-a,b,c"
   ]
  },
  {
   "cell_type": "code",
   "execution_count": 2,
   "metadata": {},
   "outputs": [],
   "source": [
    "default = pd.read_csv('C:\\\\Users\\\\rtg90\\Downloads\\\\Default.csv', usecols = ['default', 'student', 'balance', 'income'])"
   ]
  },
  {
   "cell_type": "code",
   "execution_count": 3,
   "metadata": {},
   "outputs": [
    {
     "data": {
      "text/html": [
       "<div>\n",
       "<style scoped>\n",
       "    .dataframe tbody tr th:only-of-type {\n",
       "        vertical-align: middle;\n",
       "    }\n",
       "\n",
       "    .dataframe tbody tr th {\n",
       "        vertical-align: top;\n",
       "    }\n",
       "\n",
       "    .dataframe thead th {\n",
       "        text-align: right;\n",
       "    }\n",
       "</style>\n",
       "<table border=\"1\" class=\"dataframe\">\n",
       "  <thead>\n",
       "    <tr style=\"text-align: right;\">\n",
       "      <th></th>\n",
       "      <th>default</th>\n",
       "      <th>student</th>\n",
       "      <th>balance</th>\n",
       "      <th>income</th>\n",
       "    </tr>\n",
       "  </thead>\n",
       "  <tbody>\n",
       "    <tr>\n",
       "      <th>0</th>\n",
       "      <td>No</td>\n",
       "      <td>No</td>\n",
       "      <td>729.526495</td>\n",
       "      <td>44361.62507</td>\n",
       "    </tr>\n",
       "    <tr>\n",
       "      <th>1</th>\n",
       "      <td>No</td>\n",
       "      <td>Yes</td>\n",
       "      <td>817.180407</td>\n",
       "      <td>12106.13470</td>\n",
       "    </tr>\n",
       "    <tr>\n",
       "      <th>2</th>\n",
       "      <td>No</td>\n",
       "      <td>No</td>\n",
       "      <td>1073.549164</td>\n",
       "      <td>31767.13895</td>\n",
       "    </tr>\n",
       "    <tr>\n",
       "      <th>3</th>\n",
       "      <td>No</td>\n",
       "      <td>No</td>\n",
       "      <td>529.250605</td>\n",
       "      <td>35704.49394</td>\n",
       "    </tr>\n",
       "    <tr>\n",
       "      <th>4</th>\n",
       "      <td>No</td>\n",
       "      <td>No</td>\n",
       "      <td>785.655883</td>\n",
       "      <td>38463.49588</td>\n",
       "    </tr>\n",
       "  </tbody>\n",
       "</table>\n",
       "</div>"
      ],
      "text/plain": [
       "  default student      balance       income\n",
       "0      No      No   729.526495  44361.62507\n",
       "1      No     Yes   817.180407  12106.13470\n",
       "2      No      No  1073.549164  31767.13895\n",
       "3      No      No   529.250605  35704.49394\n",
       "4      No      No   785.655883  38463.49588"
      ]
     },
     "execution_count": 3,
     "metadata": {},
     "output_type": "execute_result"
    }
   ],
   "source": [
    "default.head()"
   ]
  },
  {
   "cell_type": "code",
   "execution_count": 6,
   "metadata": {},
   "outputs": [],
   "source": [
    "x = default[['income', 'balance']]\n",
    "y = default['default']\n",
    "\n",
    "lr = LogisticRegression()\n",
    "lr.fit(x, y)"
   ]
  },
  {
   "cell_type": "code",
   "execution_count": 7,
   "metadata": {},
   "outputs": [
    {
     "name": "stderr",
     "output_type": "stream",
     "text": [
      "C:\\Users\\rtg90\\AppData\\Local\\Continuum\\anaconda3\\lib\\site-packages\\sklearn\\linear_model\\logistic.py:432: FutureWarning: Default solver will be changed to 'lbfgs' in 0.22. Specify a solver to silence this warning.\n",
      "  FutureWarning)\n"
     ]
    },
    {
     "name": "stdout",
     "output_type": "stream",
     "text": [
      "114\n",
      "The validation error is: 0.038\n"
     ]
    }
   ],
   "source": [
    "#First testing\n",
    "x_train, x_val, y_train, y_val = train_test_split(x, y, test_size=0.30, random_state=0)\n",
    "\n",
    "lr = LogisticRegression()\n",
    "lr.fit(x_train, y_train)\n",
    "\n",
    "prob_arr = lr.predict_proba(x_val)\n",
    "\n",
    "pred = []\n",
    "for i in range(len(prob_arr)):\n",
    "    if prob_arr[i][1] > 0.5:\n",
    "        pred.append('Yes')\n",
    "    else:\n",
    "        pred.append('No')\n",
    "        \n",
    "cnt = 0\n",
    "for i in range(len(pred)):\n",
    "    if pred[i] != list(y_val)[i]:\n",
    "        cnt += 1\n",
    "print(cnt)\n",
    "\n",
    "print(\"The validation error is:\", cnt / len(pred))"
   ]
  },
  {
   "cell_type": "code",
   "execution_count": 8,
   "metadata": {},
   "outputs": [
    {
     "name": "stderr",
     "output_type": "stream",
     "text": [
      "C:\\Users\\rtg90\\AppData\\Local\\Continuum\\anaconda3\\lib\\site-packages\\sklearn\\linear_model\\logistic.py:432: FutureWarning: Default solver will be changed to 'lbfgs' in 0.22. Specify a solver to silence this warning.\n",
      "  FutureWarning)\n"
     ]
    },
    {
     "name": "stdout",
     "output_type": "stream",
     "text": [
      "117\n",
      "The validation error is: 0.039\n"
     ]
    }
   ],
   "source": [
    "#Second testing\n",
    "x_train, x_val, y_train, y_val = train_test_split(x, y, test_size=0.30)\n",
    "\n",
    "lr = LogisticRegression()\n",
    "lr.fit(x_train, y_train)\n",
    "\n",
    "prob_arr = lr.predict_proba(x_val)\n",
    "\n",
    "pred = []\n",
    "for i in range(len(prob_arr)):\n",
    "    if prob_arr[i][1] > 0.5:\n",
    "        pred.append('Yes')\n",
    "    else:\n",
    "        pred.append('No')\n",
    "        \n",
    "cnt = 0\n",
    "for i in range(len(pred)):\n",
    "    if pred[i] != list(y_val)[i]:\n",
    "        cnt += 1\n",
    "print(cnt)\n",
    "\n",
    "print(\"The validation error is:\", cnt / len(pred))"
   ]
  },
  {
   "cell_type": "code",
   "execution_count": 9,
   "metadata": {},
   "outputs": [
    {
     "name": "stderr",
     "output_type": "stream",
     "text": [
      "C:\\Users\\rtg90\\AppData\\Local\\Continuum\\anaconda3\\lib\\site-packages\\sklearn\\linear_model\\logistic.py:432: FutureWarning: Default solver will be changed to 'lbfgs' in 0.22. Specify a solver to silence this warning.\n",
      "  FutureWarning)\n"
     ]
    },
    {
     "name": "stdout",
     "output_type": "stream",
     "text": [
      "99\n",
      "The validation error is: 0.033\n"
     ]
    }
   ],
   "source": [
    "#third testing\n",
    "x_train, x_val, y_train, y_val = train_test_split(x, y, test_size=0.30)\n",
    "\n",
    "lr = LogisticRegression()\n",
    "lr.fit(x_train, y_train)\n",
    "\n",
    "prob_arr = lr.predict_proba(x_val)\n",
    "\n",
    "pred = []\n",
    "for i in range(len(prob_arr)):\n",
    "    if prob_arr[i][1] > 0.5:\n",
    "        pred.append('Yes')\n",
    "    else:\n",
    "        pred.append('No')\n",
    "        \n",
    "cnt = 0\n",
    "for i in range(len(pred)):\n",
    "    if pred[i] != list(y_val)[i]:\n",
    "        cnt += 1\n",
    "print(cnt)\n",
    "\n",
    "print(\"The validation error is:\", cnt / len(pred))"
   ]
  },
  {
   "cell_type": "code",
   "execution_count": 10,
   "metadata": {},
   "outputs": [
    {
     "data": {
      "text/plain": [
       "0.03666666666666667"
      ]
     },
     "execution_count": 10,
     "metadata": {},
     "output_type": "execute_result"
    }
   ],
   "source": [
    "(0.038 + 0.039 + 0.033) /3 "
   ]
  },
  {
   "cell_type": "markdown",
   "metadata": {},
   "source": [
    "The three validation set error rates are 0.038, 0.039, and 0.033, respectively. This is a quite low error rate. The average validation error rate of all three trials is (0.038 + 0.039 + 0.033)/3 = 0.037. The logistic regression model seems to predict the default well. "
   ]
  },
  {
   "cell_type": "markdown",
   "metadata": {},
   "source": [
    "# 2-d"
   ]
  },
  {
   "cell_type": "code",
   "execution_count": 11,
   "metadata": {},
   "outputs": [],
   "source": [
    "default_edit = pd.concat([default, default['student'].str.get_dummies()], axis = 1)"
   ]
  },
  {
   "cell_type": "code",
   "execution_count": 12,
   "metadata": {},
   "outputs": [
    {
     "data": {
      "text/html": [
       "<div>\n",
       "<style scoped>\n",
       "    .dataframe tbody tr th:only-of-type {\n",
       "        vertical-align: middle;\n",
       "    }\n",
       "\n",
       "    .dataframe tbody tr th {\n",
       "        vertical-align: top;\n",
       "    }\n",
       "\n",
       "    .dataframe thead th {\n",
       "        text-align: right;\n",
       "    }\n",
       "</style>\n",
       "<table border=\"1\" class=\"dataframe\">\n",
       "  <thead>\n",
       "    <tr style=\"text-align: right;\">\n",
       "      <th></th>\n",
       "      <th>default</th>\n",
       "      <th>student</th>\n",
       "      <th>balance</th>\n",
       "      <th>income</th>\n",
       "      <th>No</th>\n",
       "      <th>Yes</th>\n",
       "    </tr>\n",
       "  </thead>\n",
       "  <tbody>\n",
       "    <tr>\n",
       "      <th>0</th>\n",
       "      <td>No</td>\n",
       "      <td>No</td>\n",
       "      <td>729.526495</td>\n",
       "      <td>44361.62507</td>\n",
       "      <td>1</td>\n",
       "      <td>0</td>\n",
       "    </tr>\n",
       "    <tr>\n",
       "      <th>1</th>\n",
       "      <td>No</td>\n",
       "      <td>Yes</td>\n",
       "      <td>817.180407</td>\n",
       "      <td>12106.13470</td>\n",
       "      <td>0</td>\n",
       "      <td>1</td>\n",
       "    </tr>\n",
       "    <tr>\n",
       "      <th>2</th>\n",
       "      <td>No</td>\n",
       "      <td>No</td>\n",
       "      <td>1073.549164</td>\n",
       "      <td>31767.13895</td>\n",
       "      <td>1</td>\n",
       "      <td>0</td>\n",
       "    </tr>\n",
       "    <tr>\n",
       "      <th>3</th>\n",
       "      <td>No</td>\n",
       "      <td>No</td>\n",
       "      <td>529.250605</td>\n",
       "      <td>35704.49394</td>\n",
       "      <td>1</td>\n",
       "      <td>0</td>\n",
       "    </tr>\n",
       "    <tr>\n",
       "      <th>4</th>\n",
       "      <td>No</td>\n",
       "      <td>No</td>\n",
       "      <td>785.655883</td>\n",
       "      <td>38463.49588</td>\n",
       "      <td>1</td>\n",
       "      <td>0</td>\n",
       "    </tr>\n",
       "  </tbody>\n",
       "</table>\n",
       "</div>"
      ],
      "text/plain": [
       "  default student      balance       income  No  Yes\n",
       "0      No      No   729.526495  44361.62507   1    0\n",
       "1      No     Yes   817.180407  12106.13470   0    1\n",
       "2      No      No  1073.549164  31767.13895   1    0\n",
       "3      No      No   529.250605  35704.49394   1    0\n",
       "4      No      No   785.655883  38463.49588   1    0"
      ]
     },
     "execution_count": 12,
     "metadata": {},
     "output_type": "execute_result"
    }
   ],
   "source": [
    "default_edit.head()"
   ]
  },
  {
   "cell_type": "code",
   "execution_count": 13,
   "metadata": {},
   "outputs": [
    {
     "data": {
      "text/html": [
       "<div>\n",
       "<style scoped>\n",
       "    .dataframe tbody tr th:only-of-type {\n",
       "        vertical-align: middle;\n",
       "    }\n",
       "\n",
       "    .dataframe tbody tr th {\n",
       "        vertical-align: top;\n",
       "    }\n",
       "\n",
       "    .dataframe thead th {\n",
       "        text-align: right;\n",
       "    }\n",
       "</style>\n",
       "<table border=\"1\" class=\"dataframe\">\n",
       "  <thead>\n",
       "    <tr style=\"text-align: right;\">\n",
       "      <th></th>\n",
       "      <th>income</th>\n",
       "      <th>balance</th>\n",
       "      <th>No</th>\n",
       "      <th>Yes</th>\n",
       "    </tr>\n",
       "  </thead>\n",
       "  <tbody>\n",
       "    <tr>\n",
       "      <th>0</th>\n",
       "      <td>44361.62507</td>\n",
       "      <td>729.526495</td>\n",
       "      <td>1</td>\n",
       "      <td>0</td>\n",
       "    </tr>\n",
       "    <tr>\n",
       "      <th>1</th>\n",
       "      <td>12106.13470</td>\n",
       "      <td>817.180407</td>\n",
       "      <td>0</td>\n",
       "      <td>1</td>\n",
       "    </tr>\n",
       "    <tr>\n",
       "      <th>2</th>\n",
       "      <td>31767.13895</td>\n",
       "      <td>1073.549164</td>\n",
       "      <td>1</td>\n",
       "      <td>0</td>\n",
       "    </tr>\n",
       "    <tr>\n",
       "      <th>3</th>\n",
       "      <td>35704.49394</td>\n",
       "      <td>529.250605</td>\n",
       "      <td>1</td>\n",
       "      <td>0</td>\n",
       "    </tr>\n",
       "    <tr>\n",
       "      <th>4</th>\n",
       "      <td>38463.49588</td>\n",
       "      <td>785.655883</td>\n",
       "      <td>1</td>\n",
       "      <td>0</td>\n",
       "    </tr>\n",
       "  </tbody>\n",
       "</table>\n",
       "</div>"
      ],
      "text/plain": [
       "        income      balance  No  Yes\n",
       "0  44361.62507   729.526495   1    0\n",
       "1  12106.13470   817.180407   0    1\n",
       "2  31767.13895  1073.549164   1    0\n",
       "3  35704.49394   529.250605   1    0\n",
       "4  38463.49588   785.655883   1    0"
      ]
     },
     "execution_count": 13,
     "metadata": {},
     "output_type": "execute_result"
    }
   ],
   "source": [
    "x_d = default_edit[['income', 'balance', 'No', 'Yes']]\n",
    "y_d = default_edit['default']\n",
    "x_d.head()"
   ]
  },
  {
   "cell_type": "code",
   "execution_count": 14,
   "metadata": {},
   "outputs": [
    {
     "name": "stderr",
     "output_type": "stream",
     "text": [
      "C:\\Users\\rtg90\\AppData\\Local\\Continuum\\anaconda3\\lib\\site-packages\\sklearn\\linear_model\\logistic.py:432: FutureWarning: Default solver will be changed to 'lbfgs' in 0.22. Specify a solver to silence this warning.\n",
      "  FutureWarning)\n"
     ]
    },
    {
     "name": "stdout",
     "output_type": "stream",
     "text": [
      "114\n",
      "The validation error is: 0.038\n"
     ]
    }
   ],
   "source": [
    "#First testing\n",
    "x_train, x_val, y_train, y_val = train_test_split(x_d, y_d, test_size=0.30, random_state = 0)\n",
    "\n",
    "lr = LogisticRegression()\n",
    "lr.fit(x_train, y_train)\n",
    "\n",
    "prob_arr = lr.predict_proba(x_val)\n",
    "\n",
    "pred = []\n",
    "for i in range(len(prob_arr)):\n",
    "    if prob_arr[i][1] > 0.5:\n",
    "        pred.append('Yes')\n",
    "    else:\n",
    "        pred.append('No')\n",
    "        \n",
    "cnt = 0\n",
    "for i in range(len(pred)):\n",
    "    if pred[i] != list(y_val)[i]:\n",
    "        cnt += 1\n",
    "print(cnt)\n",
    "\n",
    "print(\"The validation error is:\", cnt / len(pred))"
   ]
  },
  {
   "cell_type": "code",
   "execution_count": 15,
   "metadata": {},
   "outputs": [
    {
     "name": "stderr",
     "output_type": "stream",
     "text": [
      "C:\\Users\\rtg90\\AppData\\Local\\Continuum\\anaconda3\\lib\\site-packages\\sklearn\\linear_model\\logistic.py:432: FutureWarning: Default solver will be changed to 'lbfgs' in 0.22. Specify a solver to silence this warning.\n",
      "  FutureWarning)\n"
     ]
    },
    {
     "name": "stdout",
     "output_type": "stream",
     "text": [
      "102\n",
      "The validation error is: 0.034\n"
     ]
    }
   ],
   "source": [
    "#second testing\n",
    "x_train, x_val, y_train, y_val = train_test_split(x_d, y_d, test_size=0.30)\n",
    "\n",
    "lr = LogisticRegression()\n",
    "lr.fit(x_train, y_train)\n",
    "\n",
    "prob_arr = lr.predict_proba(x_val)\n",
    "\n",
    "pred = []\n",
    "for i in range(len(prob_arr)):\n",
    "    if prob_arr[i][1] > 0.5:\n",
    "        pred.append('Yes')\n",
    "    else:\n",
    "        pred.append('No')\n",
    "        \n",
    "cnt = 0\n",
    "for i in range(len(pred)):\n",
    "    if pred[i] != list(y_val)[i]:\n",
    "        cnt += 1\n",
    "print(cnt)\n",
    "\n",
    "print(\"The validation error is:\", cnt / len(pred))"
   ]
  },
  {
   "cell_type": "code",
   "execution_count": 16,
   "metadata": {},
   "outputs": [
    {
     "name": "stderr",
     "output_type": "stream",
     "text": [
      "C:\\Users\\rtg90\\AppData\\Local\\Continuum\\anaconda3\\lib\\site-packages\\sklearn\\linear_model\\logistic.py:432: FutureWarning: Default solver will be changed to 'lbfgs' in 0.22. Specify a solver to silence this warning.\n",
      "  FutureWarning)\n"
     ]
    },
    {
     "name": "stdout",
     "output_type": "stream",
     "text": [
      "112\n",
      "The validation error is: 0.037333333333333336\n"
     ]
    }
   ],
   "source": [
    "#third testing\n",
    "x_train, x_val, y_train, y_val = train_test_split(x_d, y_d, test_size=0.30)\n",
    "\n",
    "lr = LogisticRegression()\n",
    "lr.fit(x_train, y_train)\n",
    "\n",
    "prob_arr = lr.predict_proba(x_val)\n",
    "\n",
    "pred = []\n",
    "for i in range(len(prob_arr)):\n",
    "    if prob_arr[i][1] > 0.5:\n",
    "        pred.append('Yes')\n",
    "    else:\n",
    "        pred.append('No')\n",
    "        \n",
    "cnt = 0\n",
    "for i in range(len(pred)):\n",
    "    if pred[i] != list(y_val)[i]:\n",
    "        cnt += 1\n",
    "print(cnt)\n",
    "\n",
    "print(\"The validation error is:\", cnt / len(pred))"
   ]
  },
  {
   "cell_type": "code",
   "execution_count": 17,
   "metadata": {},
   "outputs": [
    {
     "data": {
      "text/plain": [
       "0.036333333333333336"
      ]
     },
     "execution_count": 17,
     "metadata": {},
     "output_type": "execute_result"
    }
   ],
   "source": [
    "(0.038 + 0.034 + 0.037)/3"
   ]
  },
  {
   "cell_type": "markdown",
   "metadata": {},
   "source": [
    "The three validation set error rates are 0.038, 0.034, and 0.037, respectively. The average of the three validation error rates is: (0.038 + 0.034 + 0.037) / 3 = 0.036. I have a very close validation error rate as not including the dummy variable for student. Especially, when I set the same value for random_state = 0 when spliting the dataset, the validation error rate was exactly the same (0.038). Thus, including a dummy variable for student does not seem to significantly reduce the test error rate. "
   ]
  },
  {
   "cell_type": "code",
   "execution_count": null,
   "metadata": {},
   "outputs": [],
   "source": []
  }
 ],
 "metadata": {
  "kernelspec": {
   "display_name": "Python 3",
   "language": "python",
   "name": "python3"
  },
  "language_info": {
   "codemirror_mode": {
    "name": "ipython",
    "version": 3
   },
   "file_extension": ".py",
   "mimetype": "text/x-python",
   "name": "python",
   "nbconvert_exporter": "python",
   "pygments_lexer": "ipython3",
   "version": "3.7.4"
  }
 },
 "nbformat": 4,
 "nbformat_minor": 2
}
